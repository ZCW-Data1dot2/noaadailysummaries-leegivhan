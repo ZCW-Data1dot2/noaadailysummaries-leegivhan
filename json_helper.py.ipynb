{
 "cells": [
  {
   "cell_type": "code",
   "execution_count": 1,
   "metadata": {},
   "outputs": [],
   "source": [
    "import pandas as pd\n",
    "import os\n",
    "import json\n",
    "\n",
    "def read_json(file_path):\n",
    "    with open(file_path, \"r\") as f:\n",
    "        json_input = json.load(f)\n",
    "    return json_input\n",
    "\n",
    "def read_all_json_files(JSON_ROOT):\n",
    "    df_ex = pd.DataFrame()\n",
    "    path = JSON_ROOT\n",
    "    files = os.listdir(path)\n",
    "    for i in files:\n",
    "        if \".json\" in i:\n",
    "            j = read_json(path+i)\n",
    "            df = pd.DataFrame(j['results'])\n",
    "            df['source'] = i\n",
    "            df_ex = df_ex.append(df, ignore_index=True)\n",
    "    return df_ex"
   ]
  },
  {
   "cell_type": "code",
   "execution_count": null,
   "metadata": {},
   "outputs": [],
   "source": []
  }
 ],
 "metadata": {
  "kernelspec": {
   "display_name": "Python 3",
   "language": "python",
   "name": "python3"
  },
  "language_info": {
   "codemirror_mode": {
    "name": "ipython",
    "version": 3
   },
   "file_extension": ".py",
   "mimetype": "text/x-python",
   "name": "python",
   "nbconvert_exporter": "python",
   "pygments_lexer": "ipython3",
   "version": "3.8.3"
  }
 },
 "nbformat": 4,
 "nbformat_minor": 4
}
